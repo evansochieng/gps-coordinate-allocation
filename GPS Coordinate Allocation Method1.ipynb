{
 "cells": [
  {
   "cell_type": "code",
   "execution_count": 1,
   "metadata": {},
   "outputs": [],
   "source": [
    "import pandas as pd\n",
    "import os\n",
    "import numpy as np\n",
    "import csv"
   ]
  },
  {
   "cell_type": "code",
   "execution_count": 3,
   "metadata": {},
   "outputs": [
    {
     "data": {
      "text/html": [
       "<div>\n",
       "<style scoped>\n",
       "    .dataframe tbody tr th:only-of-type {\n",
       "        vertical-align: middle;\n",
       "    }\n",
       "\n",
       "    .dataframe tbody tr th {\n",
       "        vertical-align: top;\n",
       "    }\n",
       "\n",
       "    .dataframe thead th {\n",
       "        text-align: right;\n",
       "    }\n",
       "</style>\n",
       "<table border=\"1\" class=\"dataframe\">\n",
       "  <thead>\n",
       "    <tr style=\"text-align: right;\">\n",
       "      <th></th>\n",
       "      <th>PixelID</th>\n",
       "      <th>Latitude</th>\n",
       "      <th>Longitude</th>\n",
       "      <th>PixelNames</th>\n",
       "    </tr>\n",
       "  </thead>\n",
       "  <tbody>\n",
       "    <tr>\n",
       "      <th>0</th>\n",
       "      <td>-40.0,-20.0</td>\n",
       "      <td>-40.0</td>\n",
       "      <td>-20.0</td>\n",
       "      <td>Pixel001001</td>\n",
       "    </tr>\n",
       "    <tr>\n",
       "      <th>1</th>\n",
       "      <td>-40.0,-19.9</td>\n",
       "      <td>-40.0</td>\n",
       "      <td>-19.9</td>\n",
       "      <td>Pixel001002</td>\n",
       "    </tr>\n",
       "    <tr>\n",
       "      <th>2</th>\n",
       "      <td>-40.0,-19.8</td>\n",
       "      <td>-40.0</td>\n",
       "      <td>-19.8</td>\n",
       "      <td>Pixel001003</td>\n",
       "    </tr>\n",
       "    <tr>\n",
       "      <th>3</th>\n",
       "      <td>-40.0,-19.7</td>\n",
       "      <td>-40.0</td>\n",
       "      <td>-19.7</td>\n",
       "      <td>Pixel001004</td>\n",
       "    </tr>\n",
       "    <tr>\n",
       "      <th>4</th>\n",
       "      <td>-40.0,-19.6</td>\n",
       "      <td>-40.0</td>\n",
       "      <td>-19.6</td>\n",
       "      <td>Pixel001005</td>\n",
       "    </tr>\n",
       "  </tbody>\n",
       "</table>\n",
       "</div>"
      ],
      "text/plain": [
       "       PixelID  Latitude  Longitude   PixelNames\n",
       "0  -40.0,-20.0     -40.0      -20.0  Pixel001001\n",
       "1  -40.0,-19.9     -40.0      -19.9  Pixel001002\n",
       "2  -40.0,-19.8     -40.0      -19.8  Pixel001003\n",
       "3  -40.0,-19.7     -40.0      -19.7  Pixel001004\n",
       "4  -40.0,-19.6     -40.0      -19.6  Pixel001005"
      ]
     },
     "execution_count": 3,
     "metadata": {},
     "output_type": "execute_result"
    }
   ],
   "source": [
    "os.chdir(\"C:/Users/HP/Desktop/Syngenta/Jun-Aug 2021/GPS Coordinates Allocation/GPS Coordinate Allocation(Python)/Basis Risk Analysis\")\n",
    "\n",
    "#load grid\n",
    "grid = pd.read_csv('C:/Users/HP/Desktop/Syngenta/Jun-Aug 2021/PythonAssignments/ARC2PROCESSING/grid.csv')\n",
    "grid.head()"
   ]
  },
  {
   "cell_type": "code",
   "execution_count": 3,
   "metadata": {},
   "outputs": [
    {
     "data": {
      "text/plain": [
       "0   -40.0\n",
       "1   -40.0\n",
       "2   -40.0\n",
       "3   -40.0\n",
       "4   -40.0\n",
       "Name: Latitude, dtype: float64"
      ]
     },
     "execution_count": 3,
     "metadata": {},
     "output_type": "execute_result"
    }
   ],
   "source": [
    "grid[\"Latitude\"] = grid[\"Latitude\"].apply(str)\n",
    "grid[\"Latitude\"] = grid[\"Latitude\"].apply(float)\n",
    "grid[\"Latitude\"].head()"
   ]
  },
  {
   "cell_type": "code",
   "execution_count": 4,
   "metadata": {},
   "outputs": [],
   "source": [
    "grid[\"Longitude\"] = grid[\"Longitude\"].apply(str)\n",
    "grid[\"Longitude\"] = grid[\"Longitude\"].apply(float)"
   ]
  },
  {
   "cell_type": "code",
   "execution_count": 5,
   "metadata": {},
   "outputs": [],
   "source": [
    "grid[\"PixelNames\"] = grid[\"PixelNames\"].apply(str)"
   ]
  },
  {
   "cell_type": "code",
   "execution_count": 6,
   "metadata": {},
   "outputs": [],
   "source": [
    "sites = pd.read_csv('C:/Users/HP/Desktop/Syngenta/Jun-Aug 2021/GPS Coordinates Allocation/AllGPS.csv')"
   ]
  },
  {
   "cell_type": "code",
   "execution_count": 7,
   "metadata": {},
   "outputs": [],
   "source": [
    "dataout = pd.DataFrame(columns=[\"Latitude\",\"Longitude\",\"PixelID\",\"PixelNames\",\"PixLat\",\"PixLon\"])"
   ]
  },
  {
   "cell_type": "code",
   "execution_count": 8,
   "metadata": {},
   "outputs": [
    {
     "data": {
      "text/html": [
       "<div>\n",
       "<style scoped>\n",
       "    .dataframe tbody tr th:only-of-type {\n",
       "        vertical-align: middle;\n",
       "    }\n",
       "\n",
       "    .dataframe tbody tr th {\n",
       "        vertical-align: top;\n",
       "    }\n",
       "\n",
       "    .dataframe thead th {\n",
       "        text-align: right;\n",
       "    }\n",
       "</style>\n",
       "<table border=\"1\" class=\"dataframe\">\n",
       "  <thead>\n",
       "    <tr style=\"text-align: right;\">\n",
       "      <th></th>\n",
       "      <th>Latitude</th>\n",
       "      <th>Longitude</th>\n",
       "      <th>PixelID</th>\n",
       "      <th>PixelNames</th>\n",
       "      <th>PixLat</th>\n",
       "      <th>PixLon</th>\n",
       "    </tr>\n",
       "  </thead>\n",
       "  <tbody>\n",
       "    <tr>\n",
       "      <th>0</th>\n",
       "      <td>2.206556752</td>\n",
       "      <td>34.94938714</td>\n",
       "      <td>2.2,34.9</td>\n",
       "      <td>Pixel423550</td>\n",
       "      <td>2.2</td>\n",
       "      <td>34.9</td>\n",
       "    </tr>\n",
       "    <tr>\n",
       "      <th>1</th>\n",
       "      <td>-36.49931644</td>\n",
       "      <td>54.02554817</td>\n",
       "      <td>-36.5,54.0</td>\n",
       "      <td>Pixel036741</td>\n",
       "      <td>-36.5</td>\n",
       "      <td>54.0</td>\n",
       "    </tr>\n",
       "    <tr>\n",
       "      <th>2</th>\n",
       "      <td>-36.09710153</td>\n",
       "      <td>46.00369519</td>\n",
       "      <td>-36.1,46.0</td>\n",
       "      <td>Pixel040661</td>\n",
       "      <td>-36.1</td>\n",
       "      <td>46.0</td>\n",
       "    </tr>\n",
       "    <tr>\n",
       "      <th>3</th>\n",
       "      <td>-16.4810373</td>\n",
       "      <td>4.338258002</td>\n",
       "      <td>-16.5,4.3</td>\n",
       "      <td>Pixel236244</td>\n",
       "      <td>-16.5</td>\n",
       "      <td>4.3</td>\n",
       "    </tr>\n",
       "    <tr>\n",
       "      <th>4</th>\n",
       "      <td>-36.34422376</td>\n",
       "      <td>-8.230514601</td>\n",
       "      <td>-36.3,-8.2</td>\n",
       "      <td>Pixel038119</td>\n",
       "      <td>-36.3</td>\n",
       "      <td>-8.2</td>\n",
       "    </tr>\n",
       "  </tbody>\n",
       "</table>\n",
       "</div>"
      ],
      "text/plain": [
       "       Latitude     Longitude     PixelID   PixelNames PixLat PixLon\n",
       "0   2.206556752   34.94938714    2.2,34.9  Pixel423550    2.2   34.9\n",
       "1  -36.49931644   54.02554817  -36.5,54.0  Pixel036741  -36.5   54.0\n",
       "2  -36.09710153   46.00369519  -36.1,46.0  Pixel040661  -36.1   46.0\n",
       "3   -16.4810373   4.338258002   -16.5,4.3  Pixel236244  -16.5    4.3\n",
       "4  -36.34422376  -8.230514601  -36.3,-8.2  Pixel038119  -36.3   -8.2"
      ]
     },
     "execution_count": 8,
     "metadata": {},
     "output_type": "execute_result"
    }
   ],
   "source": [
    "for i in range(0, sites.shape[0]):\n",
    "    \n",
    "    Y = sites.loc[i, [\"Latitude\"]]\n",
    "    X = sites.loc[i, [\"Longitude\"]]\n",
    "    \n",
    "    arclat = np.array(grid[\"Latitude\"])\n",
    "    ARC_lat = abs(arclat-float(Y))\n",
    "    ARC_latdex = np.argmin(ARC_lat)\n",
    "    \n",
    "    arclon =  np.array(grid[\"Longitude\"])\n",
    "    ARC_lon = abs(arclon-float(X))\n",
    "    ARC_londex = np.argmin(ARC_lon)\n",
    "    \n",
    "    dataout.loc[i] = [str(Y.values)[1:-1], str(X.values)[1:-1], str(grid.loc[ARC_latdex+ARC_londex, [\"PixelID\"]].values)[2:-2], str(grid.loc[ARC_latdex+ARC_londex, [\"PixelNames\"]].values)[2:-2], str(grid.loc[ARC_latdex, [\"Latitude\"]].values)[1:-1], str(grid.loc[ARC_londex, [\"Longitude\"]].values)[1:-1]]\n",
    "    \n",
    "dataout.head()"
   ]
  },
  {
   "cell_type": "code",
   "execution_count": 9,
   "metadata": {},
   "outputs": [],
   "source": [
    "Dataout = dataout.rename(index= lambda x: 'Farmer' + str(x+1))\n",
    "Dataout.head()"
   ]
  },
  {
   "cell_type": "code",
   "execution_count": 10,
   "metadata": {
    "scrolled": true
   },
   "outputs": [],
   "source": [
    "Dataout[\"Latitude\"] = Dataout[\"Latitude\"].apply(str)\n",
    "Dataout[\"Latitude\"] = Dataout[\"Latitude\"].apply(float)"
   ]
  },
  {
   "cell_type": "code",
   "execution_count": 11,
   "metadata": {},
   "outputs": [],
   "source": [
    "Dataout[\"Longitude\"] = Dataout[\"Longitude\"].apply(str)\n",
    "Dataout[\"Longitude\"] = Dataout[\"Longitude\"].apply(float)"
   ]
  },
  {
   "cell_type": "code",
   "execution_count": 12,
   "metadata": {},
   "outputs": [],
   "source": [
    "Dataout[\"PixelID\"] = Dataout[\"PixelID\"].apply(str)"
   ]
  },
  {
   "cell_type": "code",
   "execution_count": 13,
   "metadata": {},
   "outputs": [],
   "source": [
    "Dataout[\"PixelNames\"] = Dataout[\"PixelNames\"].apply(str)"
   ]
  },
  {
   "cell_type": "code",
   "execution_count": 14,
   "metadata": {},
   "outputs": [],
   "source": [
    "Dataout[\"PixLat\"] = Dataout[\"PixLat\"].apply(str)\n",
    "Dataout[\"PixLat\"] = Dataout[\"PixLat\"].apply(float)"
   ]
  },
  {
   "cell_type": "code",
   "execution_count": 15,
   "metadata": {},
   "outputs": [],
   "source": [
    "Dataout[\"PixLon\"] = Dataout[\"PixLon\"].apply(str)\n",
    "Dataout[\"PixLon\"] = Dataout[\"PixLon\"].apply(float)"
   ]
  },
  {
   "cell_type": "code",
   "execution_count": 16,
   "metadata": {},
   "outputs": [],
   "source": [
    "Dataout.to_csv('BasisRiskLocation(ARC2-5km)matchedPixelsmethod1.csv')"
   ]
  },
  {
   "cell_type": "code",
   "execution_count": 23,
   "metadata": {},
   "outputs": [],
   "source": [
    "pixelnames = Dataout[\"PixelNames\"].astype(object)\n",
    "uniquepixels = pixelnames.drop_duplicates()\n",
    "uniquepixels.to_csv(\"KwetuvillageBranchesmatchedPixelsunique.csv\")"
   ]
  }
 ],
 "metadata": {
  "kernelspec": {
   "display_name": "Python 3 (ipykernel)",
   "language": "python",
   "name": "python3"
  },
  "language_info": {
   "codemirror_mode": {
    "name": "ipython",
    "version": 3
   },
   "file_extension": ".py",
   "mimetype": "text/x-python",
   "name": "python",
   "nbconvert_exporter": "python",
   "pygments_lexer": "ipython3",
   "version": "3.8.12"
  }
 },
 "nbformat": 4,
 "nbformat_minor": 4
}
